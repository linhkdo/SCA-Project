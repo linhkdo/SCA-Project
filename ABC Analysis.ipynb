{
 "cells": [
  {
   "cell_type": "markdown",
   "id": "ad29eb0f-529c-44cc-95bc-f7650de45a6c",
   "metadata": {},
   "source": [
    "# ABC Analysis"
   ]
  },
  {
   "cell_type": "code",
   "execution_count": 107,
   "id": "5e83b324-8997-4590-8431-780bef8029f4",
   "metadata": {},
   "outputs": [],
   "source": [
    "import pandas as pd"
   ]
  },
  {
   "cell_type": "code",
   "execution_count": 108,
   "id": "d38bc05e-179e-4516-89d6-d0787b826e9d",
   "metadata": {},
   "outputs": [
    {
     "data": {
      "text/html": [
       "<div>\n",
       "<style scoped>\n",
       "    .dataframe tbody tr th:only-of-type {\n",
       "        vertical-align: middle;\n",
       "    }\n",
       "\n",
       "    .dataframe tbody tr th {\n",
       "        vertical-align: top;\n",
       "    }\n",
       "\n",
       "    .dataframe thead th {\n",
       "        text-align: right;\n",
       "    }\n",
       "</style>\n",
       "<table border=\"1\" class=\"dataframe\">\n",
       "  <thead>\n",
       "    <tr style=\"text-align: right;\">\n",
       "      <th></th>\n",
       "      <th>StockCode</th>\n",
       "      <th>Quantity</th>\n",
       "      <th>Price</th>\n",
       "    </tr>\n",
       "  </thead>\n",
       "  <tbody>\n",
       "    <tr>\n",
       "      <th>0</th>\n",
       "      <td>85048</td>\n",
       "      <td>12</td>\n",
       "      <td>6.95</td>\n",
       "    </tr>\n",
       "    <tr>\n",
       "      <th>1</th>\n",
       "      <td>79323P</td>\n",
       "      <td>12</td>\n",
       "      <td>6.75</td>\n",
       "    </tr>\n",
       "  </tbody>\n",
       "</table>\n",
       "</div>"
      ],
      "text/plain": [
       "  StockCode  Quantity  Price\n",
       "0     85048        12   6.95\n",
       "1    79323P        12   6.75"
      ]
     },
     "execution_count": 108,
     "metadata": {},
     "output_type": "execute_result"
    }
   ],
   "source": [
    "df = pd.read_csv(f'ABC Analysis\\INPUT_sales.csv', usecols=['StockCode','Quantity','Price']) \n",
    "df.head(2)"
   ]
  },
  {
   "cell_type": "code",
   "execution_count": 109,
   "id": "16d3ce17-c51b-422d-a78c-ab997153b2e1",
   "metadata": {},
   "outputs": [
    {
     "name": "stdout",
     "output_type": "stream",
     "text": [
      "<class 'pandas.core.frame.DataFrame'>\n",
      "RangeIndex: 1044420 entries, 0 to 1044419\n",
      "Data columns (total 3 columns):\n",
      " #   Column     Non-Null Count    Dtype  \n",
      "---  ------     --------------    -----  \n",
      " 0   StockCode  1044420 non-null  object \n",
      " 1   Quantity   1044420 non-null  int64  \n",
      " 2   Price      1044420 non-null  float64\n",
      "dtypes: float64(1), int64(1), object(1)\n",
      "memory usage: 23.9+ MB\n"
     ]
    }
   ],
   "source": [
    "#kiểm tra null & type\n",
    "df.info()"
   ]
  },
  {
   "cell_type": "code",
   "execution_count": 110,
   "id": "a5d40227-b10f-4081-a04f-9c12c1400035",
   "metadata": {},
   "outputs": [
    {
     "data": {
      "text/plain": [
       "StockCode    0\n",
       "Quantity     0\n",
       "Price        0\n",
       "dtype: int64"
      ]
     },
     "execution_count": 110,
     "metadata": {},
     "output_type": "execute_result"
    }
   ],
   "source": [
    "df.isna().sum()\n",
    "#không có missing values"
   ]
  },
  {
   "cell_type": "code",
   "execution_count": 111,
   "id": "4ae895f4-8595-4b69-9ce3-6b5967b1aed3",
   "metadata": {},
   "outputs": [
    {
     "data": {
      "text/html": [
       "<div>\n",
       "<style scoped>\n",
       "    .dataframe tbody tr th:only-of-type {\n",
       "        vertical-align: middle;\n",
       "    }\n",
       "\n",
       "    .dataframe tbody tr th {\n",
       "        vertical-align: top;\n",
       "    }\n",
       "\n",
       "    .dataframe thead th {\n",
       "        text-align: right;\n",
       "    }\n",
       "</style>\n",
       "<table border=\"1\" class=\"dataframe\">\n",
       "  <thead>\n",
       "    <tr style=\"text-align: right;\">\n",
       "      <th></th>\n",
       "      <th>StockCode</th>\n",
       "      <th>Quantity</th>\n",
       "      <th>Price</th>\n",
       "    </tr>\n",
       "  </thead>\n",
       "  <tbody>\n",
       "    <tr>\n",
       "      <th>174809</th>\n",
       "      <td>B</td>\n",
       "      <td>1</td>\n",
       "      <td>-53594.36</td>\n",
       "    </tr>\n",
       "    <tr>\n",
       "      <th>268853</th>\n",
       "      <td>B</td>\n",
       "      <td>1</td>\n",
       "      <td>-44031.79</td>\n",
       "    </tr>\n",
       "    <tr>\n",
       "      <th>393373</th>\n",
       "      <td>B</td>\n",
       "      <td>1</td>\n",
       "      <td>-38925.87</td>\n",
       "    </tr>\n",
       "    <tr>\n",
       "      <th>806755</th>\n",
       "      <td>B</td>\n",
       "      <td>1</td>\n",
       "      <td>-11062.06</td>\n",
       "    </tr>\n",
       "    <tr>\n",
       "      <th>806756</th>\n",
       "      <td>B</td>\n",
       "      <td>1</td>\n",
       "      <td>-11062.06</td>\n",
       "    </tr>\n",
       "  </tbody>\n",
       "</table>\n",
       "</div>"
      ],
      "text/plain": [
       "       StockCode  Quantity     Price\n",
       "174809         B         1 -53594.36\n",
       "268853         B         1 -44031.79\n",
       "393373         B         1 -38925.87\n",
       "806755         B         1 -11062.06\n",
       "806756         B         1 -11062.06"
      ]
     },
     "execution_count": 111,
     "metadata": {},
     "output_type": "execute_result"
    }
   ],
   "source": [
    "df[df['Price']<0]\n",
    "#nhận thấy có 5 StockCode có Price < 0 -> drop"
   ]
  },
  {
   "cell_type": "code",
   "execution_count": 112,
   "id": "3a4234aa-c93f-4e94-93a5-56cc025eac1c",
   "metadata": {},
   "outputs": [
    {
     "data": {
      "text/html": [
       "<div>\n",
       "<style scoped>\n",
       "    .dataframe tbody tr th:only-of-type {\n",
       "        vertical-align: middle;\n",
       "    }\n",
       "\n",
       "    .dataframe tbody tr th {\n",
       "        vertical-align: top;\n",
       "    }\n",
       "\n",
       "    .dataframe thead th {\n",
       "        text-align: right;\n",
       "    }\n",
       "</style>\n",
       "<table border=\"1\" class=\"dataframe\">\n",
       "  <thead>\n",
       "    <tr style=\"text-align: right;\">\n",
       "      <th></th>\n",
       "      <th>StockCode</th>\n",
       "      <th>Quantity</th>\n",
       "      <th>Price</th>\n",
       "    </tr>\n",
       "  </thead>\n",
       "  <tbody>\n",
       "  </tbody>\n",
       "</table>\n",
       "</div>"
      ],
      "text/plain": [
       "Empty DataFrame\n",
       "Columns: [StockCode, Quantity, Price]\n",
       "Index: []"
      ]
     },
     "execution_count": 112,
     "metadata": {},
     "output_type": "execute_result"
    }
   ],
   "source": [
    "df[df['Quantity']<0]\n",
    "#không có vấn đề"
   ]
  },
  {
   "cell_type": "code",
   "execution_count": 113,
   "id": "954e9fea-2bde-4171-a01c-fa3ffc062d94",
   "metadata": {},
   "outputs": [
    {
     "data": {
      "text/plain": [
       "85123A    5692\n",
       "85099B    4129\n",
       "22423     4065\n",
       "21212     3290\n",
       "20725     3179\n",
       "          ... \n",
       "21406        1\n",
       "35818C       1\n",
       "35950        1\n",
       "84205C       1\n",
       "23843        1\n",
       "Name: StockCode, Length: 4985, dtype: int64"
      ]
     },
     "execution_count": 113,
     "metadata": {},
     "output_type": "execute_result"
    }
   ],
   "source": [
    "df['StockCode'].value_counts() "
   ]
  },
  {
   "cell_type": "code",
   "execution_count": 123,
   "id": "feb840c5-e0b1-49d9-a4cc-67aa0e5bf669",
   "metadata": {},
   "outputs": [
    {
     "data": {
      "text/html": [
       "<div>\n",
       "<style scoped>\n",
       "    .dataframe tbody tr th:only-of-type {\n",
       "        vertical-align: middle;\n",
       "    }\n",
       "\n",
       "    .dataframe tbody tr th {\n",
       "        vertical-align: top;\n",
       "    }\n",
       "\n",
       "    .dataframe thead th {\n",
       "        text-align: right;\n",
       "    }\n",
       "</style>\n",
       "<table border=\"1\" class=\"dataframe\">\n",
       "  <thead>\n",
       "    <tr style=\"text-align: right;\">\n",
       "      <th></th>\n",
       "      <th>StockCode</th>\n",
       "      <th>Quantity</th>\n",
       "      <th>Price</th>\n",
       "    </tr>\n",
       "  </thead>\n",
       "  <tbody>\n",
       "    <tr>\n",
       "      <th>0</th>\n",
       "      <td>85048</td>\n",
       "      <td>12</td>\n",
       "      <td>6.95</td>\n",
       "    </tr>\n",
       "    <tr>\n",
       "      <th>1</th>\n",
       "      <td>79323P</td>\n",
       "      <td>12</td>\n",
       "      <td>6.75</td>\n",
       "    </tr>\n",
       "  </tbody>\n",
       "</table>\n",
       "</div>"
      ],
      "text/plain": [
       "  StockCode  Quantity  Price\n",
       "0     85048        12   6.95\n",
       "1    79323P        12   6.75"
      ]
     },
     "execution_count": 123,
     "metadata": {},
     "output_type": "execute_result"
    }
   ],
   "source": [
    "df_clean = df[df['Price']>=0]\n",
    "df_clean.head(2)"
   ]
  },
  {
   "cell_type": "code",
   "execution_count": 124,
   "id": "c48cbe0f-8bd7-4a3c-be79-dc6112dc9904",
   "metadata": {},
   "outputs": [
    {
     "name": "stderr",
     "output_type": "stream",
     "text": [
      "C:\\Users\\ADMIN\\AppData\\Local\\Temp\\ipykernel_7256\\3362176084.py:1: SettingWithCopyWarning: \n",
      "A value is trying to be set on a copy of a slice from a DataFrame.\n",
      "Try using .loc[row_indexer,col_indexer] = value instead\n",
      "\n",
      "See the caveats in the documentation: https://pandas.pydata.org/pandas-docs/stable/user_guide/indexing.html#returning-a-view-versus-a-copy\n",
      "  df_clean['Revenue'] = df_clean['Price'] * df_clean['Quantity']\n"
     ]
    }
   ],
   "source": [
    "df_clean['Revenue'] = df_clean['Price'] * df_clean['Quantity']"
   ]
  },
  {
   "cell_type": "code",
   "execution_count": 125,
   "id": "d9dd64b8-83bc-4e29-832b-e2fb0707dca7",
   "metadata": {},
   "outputs": [],
   "source": [
    "df_clean = df_clean.groupby('StockCode')['Revenue'].sum().reset_index()"
   ]
  },
  {
   "cell_type": "code",
   "execution_count": 126,
   "id": "f8b622a9-1866-4144-b547-befebe071f3b",
   "metadata": {},
   "outputs": [],
   "source": [
    "df_clean = df_clean.sort_values('Revenue', ascending = False)"
   ]
  },
  {
   "cell_type": "code",
   "execution_count": 127,
   "id": "aed9cc86-fa10-42d9-b686-3baff898e2f7",
   "metadata": {},
   "outputs": [],
   "source": [
    "total_revenue = df_clean['Revenue'].sum()"
   ]
  },
  {
   "cell_type": "code",
   "execution_count": 128,
   "id": "e42c0078-d7a1-427a-a5b7-371954f8517f",
   "metadata": {},
   "outputs": [],
   "source": [
    "df_clean['% Cumulative Revenue'] = (df_clean['Revenue'].cumsum())/total_revenue"
   ]
  },
  {
   "cell_type": "code",
   "execution_count": 129,
   "id": "4eccf751-fc3a-4d29-ab80-46652677691a",
   "metadata": {},
   "outputs": [
    {
     "data": {
      "text/html": [
       "<div>\n",
       "<style scoped>\n",
       "    .dataframe tbody tr th:only-of-type {\n",
       "        vertical-align: middle;\n",
       "    }\n",
       "\n",
       "    .dataframe tbody tr th {\n",
       "        vertical-align: top;\n",
       "    }\n",
       "\n",
       "    .dataframe thead th {\n",
       "        text-align: right;\n",
       "    }\n",
       "</style>\n",
       "<table border=\"1\" class=\"dataframe\">\n",
       "  <thead>\n",
       "    <tr style=\"text-align: right;\">\n",
       "      <th></th>\n",
       "      <th>StockCode</th>\n",
       "      <th>Revenue</th>\n",
       "      <th>% Cumulative Revenue</th>\n",
       "      <th>Revenue_ratio</th>\n",
       "    </tr>\n",
       "  </thead>\n",
       "  <tbody>\n",
       "    <tr>\n",
       "      <th>1655</th>\n",
       "      <td>22423</td>\n",
       "      <td>344563.25</td>\n",
       "      <td>0.016429</td>\n",
       "      <td>0.016429</td>\n",
       "    </tr>\n",
       "    <tr>\n",
       "      <th>4968</th>\n",
       "      <td>M</td>\n",
       "      <td>340716.28</td>\n",
       "      <td>0.032675</td>\n",
       "      <td>0.016246</td>\n",
       "    </tr>\n",
       "  </tbody>\n",
       "</table>\n",
       "</div>"
      ],
      "text/plain": [
       "     StockCode    Revenue  % Cumulative Revenue  Revenue_ratio\n",
       "1655     22423  344563.25              0.016429       0.016429\n",
       "4968         M  340716.28              0.032675       0.016246"
      ]
     },
     "execution_count": 129,
     "metadata": {},
     "output_type": "execute_result"
    }
   ],
   "source": [
    "df_clean['Revenue_ratio'] = df_clean['Revenue']/total_revenue\n",
    "df_clean.head(2)"
   ]
  },
  {
   "cell_type": "code",
   "execution_count": 156,
   "id": "671ceb05-00e1-4200-bafb-cdaeb0b44ecd",
   "metadata": {},
   "outputs": [
    {
     "data": {
      "text/html": [
       "<div>\n",
       "<style scoped>\n",
       "    .dataframe tbody tr th:only-of-type {\n",
       "        vertical-align: middle;\n",
       "    }\n",
       "\n",
       "    .dataframe tbody tr th {\n",
       "        vertical-align: top;\n",
       "    }\n",
       "\n",
       "    .dataframe thead th {\n",
       "        text-align: right;\n",
       "    }\n",
       "</style>\n",
       "<table border=\"1\" class=\"dataframe\">\n",
       "  <thead>\n",
       "    <tr style=\"text-align: right;\">\n",
       "      <th></th>\n",
       "      <th>StockCode</th>\n",
       "      <th>Revenue</th>\n",
       "      <th>% Cumulative Revenue</th>\n",
       "      <th>Revenue_ratio</th>\n",
       "      <th>Class</th>\n",
       "    </tr>\n",
       "  </thead>\n",
       "  <tbody>\n",
       "    <tr>\n",
       "      <th>1655</th>\n",
       "      <td>22423</td>\n",
       "      <td>344563.25</td>\n",
       "      <td>0.016429</td>\n",
       "      <td>0.016429</td>\n",
       "      <td>A</td>\n",
       "    </tr>\n",
       "    <tr>\n",
       "      <th>4968</th>\n",
       "      <td>M</td>\n",
       "      <td>340716.28</td>\n",
       "      <td>0.032675</td>\n",
       "      <td>0.016246</td>\n",
       "      <td>A</td>\n",
       "    </tr>\n",
       "    <tr>\n",
       "      <th>4967</th>\n",
       "      <td>DOT</td>\n",
       "      <td>322657.48</td>\n",
       "      <td>0.048060</td>\n",
       "      <td>0.015385</td>\n",
       "      <td>A</td>\n",
       "    </tr>\n",
       "    <tr>\n",
       "      <th>4364</th>\n",
       "      <td>85123A</td>\n",
       "      <td>263109.67</td>\n",
       "      <td>0.060605</td>\n",
       "      <td>0.012545</td>\n",
       "      <td>A</td>\n",
       "    </tr>\n",
       "    <tr>\n",
       "      <th>4336</th>\n",
       "      <td>85099B</td>\n",
       "      <td>183454.83</td>\n",
       "      <td>0.069352</td>\n",
       "      <td>0.008747</td>\n",
       "      <td>A</td>\n",
       "    </tr>\n",
       "  </tbody>\n",
       "</table>\n",
       "</div>"
      ],
      "text/plain": [
       "     StockCode    Revenue  % Cumulative Revenue  Revenue_ratio Class\n",
       "1655     22423  344563.25              0.016429       0.016429     A\n",
       "4968         M  340716.28              0.032675       0.016246     A\n",
       "4967       DOT  322657.48              0.048060       0.015385     A\n",
       "4364    85123A  263109.67              0.060605       0.012545     A\n",
       "4336    85099B  183454.83              0.069352       0.008747     A"
      ]
     },
     "execution_count": 156,
     "metadata": {},
     "output_type": "execute_result"
    }
   ],
   "source": [
    "df_clean['Class'] = pd.cut(x = df_clean['% Cumulative Revenue'], bins = [0, 0.8, 0.95, 1.000001],\n",
    "       labels = ['A', 'B', 'C'])\n",
    "df_clean.head(5)\n",
    "# lựa chọn bins cuối chặn 1.000001 do SKUs gần cuối của class C quá bé \n",
    "#-> %Cum đều bằng 1% -> để bins chặn 1 thì Python không tính"
   ]
  },
  {
   "cell_type": "code",
   "execution_count": 157,
   "id": "bc8659a4-484d-480d-88e6-e032df112053",
   "metadata": {},
   "outputs": [],
   "source": [
    "df_final = df_clean.groupby('Class')[['StockCode', 'Revenue_ratio']].agg(\n",
    "    {'StockCode':'count','Revenue_ratio':'sum'})"
   ]
  },
  {
   "cell_type": "code",
   "execution_count": 158,
   "id": "620c4582-debd-4439-9106-d7737ed78283",
   "metadata": {},
   "outputs": [
    {
     "data": {
      "text/plain": [
       "4985"
      ]
     },
     "execution_count": 158,
     "metadata": {},
     "output_type": "execute_result"
    }
   ],
   "source": [
    "total_SKUs = df_clean['StockCode'].count()\n",
    "total_SKUs"
   ]
  },
  {
   "cell_type": "code",
   "execution_count": 159,
   "id": "80e65e2f-708d-4512-a873-d74fc94140f1",
   "metadata": {},
   "outputs": [
    {
     "data": {
      "text/html": [
       "<div>\n",
       "<style scoped>\n",
       "    .dataframe tbody tr th:only-of-type {\n",
       "        vertical-align: middle;\n",
       "    }\n",
       "\n",
       "    .dataframe tbody tr th {\n",
       "        vertical-align: top;\n",
       "    }\n",
       "\n",
       "    .dataframe thead th {\n",
       "        text-align: right;\n",
       "    }\n",
       "</style>\n",
       "<table border=\"1\" class=\"dataframe\">\n",
       "  <thead>\n",
       "    <tr style=\"text-align: right;\">\n",
       "      <th></th>\n",
       "      <th>StockCode</th>\n",
       "      <th>SKU_ratio</th>\n",
       "      <th>Revenue_ratio</th>\n",
       "    </tr>\n",
       "    <tr>\n",
       "      <th>Class</th>\n",
       "      <th></th>\n",
       "      <th></th>\n",
       "      <th></th>\n",
       "    </tr>\n",
       "  </thead>\n",
       "  <tbody>\n",
       "    <tr>\n",
       "      <th>A</th>\n",
       "      <td>1004</td>\n",
       "      <td>0.201404</td>\n",
       "      <td>0.799970</td>\n",
       "    </tr>\n",
       "    <tr>\n",
       "      <th>B</th>\n",
       "      <td>1285</td>\n",
       "      <td>0.257773</td>\n",
       "      <td>0.149996</td>\n",
       "    </tr>\n",
       "    <tr>\n",
       "      <th>C</th>\n",
       "      <td>2696</td>\n",
       "      <td>0.540822</td>\n",
       "      <td>0.050034</td>\n",
       "    </tr>\n",
       "  </tbody>\n",
       "</table>\n",
       "</div>"
      ],
      "text/plain": [
       "       StockCode  SKU_ratio  Revenue_ratio\n",
       "Class                                     \n",
       "A           1004   0.201404       0.799970\n",
       "B           1285   0.257773       0.149996\n",
       "C           2696   0.540822       0.050034"
      ]
     },
     "execution_count": 159,
     "metadata": {},
     "output_type": "execute_result"
    }
   ],
   "source": [
    "df_final['SKU_ratio'] = df_final['StockCode']/total_SKUs\n",
    "df_final = df_final[['StockCode','SKU_ratio','Revenue_ratio']]\n",
    "df_final"
   ]
  },
  {
   "cell_type": "code",
   "execution_count": 160,
   "id": "877fdfd9-5e13-4851-93e5-e964bb5dc142",
   "metadata": {},
   "outputs": [
    {
     "data": {
      "text/html": [
       "<div>\n",
       "<style scoped>\n",
       "    .dataframe tbody tr th:only-of-type {\n",
       "        vertical-align: middle;\n",
       "    }\n",
       "\n",
       "    .dataframe tbody tr th {\n",
       "        vertical-align: top;\n",
       "    }\n",
       "\n",
       "    .dataframe thead th {\n",
       "        text-align: right;\n",
       "    }\n",
       "</style>\n",
       "<table border=\"1\" class=\"dataframe\">\n",
       "  <thead>\n",
       "    <tr style=\"text-align: right;\">\n",
       "      <th></th>\n",
       "      <th>Number of SKUs</th>\n",
       "      <th>SKU_ratio</th>\n",
       "      <th>Revenue_ratio</th>\n",
       "    </tr>\n",
       "    <tr>\n",
       "      <th>Class</th>\n",
       "      <th></th>\n",
       "      <th></th>\n",
       "      <th></th>\n",
       "    </tr>\n",
       "  </thead>\n",
       "  <tbody>\n",
       "    <tr>\n",
       "      <th>A</th>\n",
       "      <td>1004</td>\n",
       "      <td>0.201404</td>\n",
       "      <td>0.799970</td>\n",
       "    </tr>\n",
       "    <tr>\n",
       "      <th>B</th>\n",
       "      <td>1285</td>\n",
       "      <td>0.257773</td>\n",
       "      <td>0.149996</td>\n",
       "    </tr>\n",
       "    <tr>\n",
       "      <th>C</th>\n",
       "      <td>2696</td>\n",
       "      <td>0.540822</td>\n",
       "      <td>0.050034</td>\n",
       "    </tr>\n",
       "  </tbody>\n",
       "</table>\n",
       "</div>"
      ],
      "text/plain": [
       "       Number of SKUs  SKU_ratio  Revenue_ratio\n",
       "Class                                          \n",
       "A                1004   0.201404       0.799970\n",
       "B                1285   0.257773       0.149996\n",
       "C                2696   0.540822       0.050034"
      ]
     },
     "execution_count": 160,
     "metadata": {},
     "output_type": "execute_result"
    }
   ],
   "source": [
    "df_final.rename(columns = {'StockCode':'Number of SKUs'}, inplace = True)\n",
    "df_final"
   ]
  }
 ],
 "metadata": {
  "kernelspec": {
   "display_name": "Python 3 (ipykernel)",
   "language": "python",
   "name": "python3"
  },
  "language_info": {
   "codemirror_mode": {
    "name": "ipython",
    "version": 3
   },
   "file_extension": ".py",
   "mimetype": "text/x-python",
   "name": "python",
   "nbconvert_exporter": "python",
   "pygments_lexer": "ipython3",
   "version": "3.10.9"
  }
 },
 "nbformat": 4,
 "nbformat_minor": 5
}
